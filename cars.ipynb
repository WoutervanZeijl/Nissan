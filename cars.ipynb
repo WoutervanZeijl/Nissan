{
 "cells": [
  {
   "cell_type": "code",
   "execution_count": 62,
   "metadata": {},
   "outputs": [],
   "source": [
    "import pandas as pd\n",
    "import numpy as np\n",
    "import matplotlib.pyplot as plt\n",
    "\n",
    "data = pd.read_csv('Scraped_Car_Review_nissan.csv', lineterminator='\\n')\n"
   ]
  },
  {
   "cell_type": "code",
   "execution_count": 5,
   "metadata": {},
   "outputs": [
    {
     "data": {
      "text/html": [
       "<div>\n",
       "<style scoped>\n",
       "    .dataframe tbody tr th:only-of-type {\n",
       "        vertical-align: middle;\n",
       "    }\n",
       "\n",
       "    .dataframe tbody tr th {\n",
       "        vertical-align: top;\n",
       "    }\n",
       "\n",
       "    .dataframe thead th {\n",
       "        text-align: right;\n",
       "    }\n",
       "</style>\n",
       "<table border=\"1\" class=\"dataframe\">\n",
       "  <thead>\n",
       "    <tr style=\"text-align: right;\">\n",
       "      <th></th>\n",
       "      <th>Unnamed: 0</th>\n",
       "      <th>Review_Date</th>\n",
       "      <th>Author_Name</th>\n",
       "      <th>Vehicle_Title</th>\n",
       "      <th>Review_Title</th>\n",
       "      <th>Review</th>\n",
       "      <th>Rating</th>\n",
       "    </tr>\n",
       "  </thead>\n",
       "  <tbody>\n",
       "    <tr>\n",
       "      <th>0</th>\n",
       "      <td>0</td>\n",
       "      <td>on 03/07/13 12:29 PM (PST)</td>\n",
       "      <td>deltasierra</td>\n",
       "      <td>2013 Nissan NV Passenger Van 3500 SL 3dr Van (...</td>\n",
       "      <td>Outstanding large family van</td>\n",
       "      <td>With the expected arrival of our 6th child, o...</td>\n",
       "      <td>4.125</td>\n",
       "    </tr>\n",
       "    <tr>\n",
       "      <th>1</th>\n",
       "      <td>1</td>\n",
       "      <td>on 07/06/18 15:50 PM (PDT)</td>\n",
       "      <td>Daniel r</td>\n",
       "      <td>2015 Nissan NV Passenger Van 3500 SL 3dr Van (...</td>\n",
       "      <td>Back ac suck</td>\n",
       "      <td>Rear ac blow to slow that my kid do not want ...</td>\n",
       "      <td>3.000</td>\n",
       "    </tr>\n",
       "    <tr>\n",
       "      <th>2</th>\n",
       "      <td>2</td>\n",
       "      <td>on 03/26/18 14:30 PM (PDT)</td>\n",
       "      <td>Bobbie D.</td>\n",
       "      <td>2015 Nissan NV Passenger Van 3500 SL 3dr Van (...</td>\n",
       "      <td>we love ours!</td>\n",
       "      <td>This is not a small astro van type.You will n...</td>\n",
       "      <td>5.000</td>\n",
       "    </tr>\n",
       "    <tr>\n",
       "      <th>3</th>\n",
       "      <td>3</td>\n",
       "      <td>on 05/14/16 09:50 AM (PDT)</td>\n",
       "      <td>Joe Flash</td>\n",
       "      <td>2015 Nissan NV Passenger Van 3500 SL 3dr Van (...</td>\n",
       "      <td>My 2014 Nissan NVP SL review</td>\n",
       "      <td>I am very satisfied with my  2014 Nissan NV S...</td>\n",
       "      <td>5.000</td>\n",
       "    </tr>\n",
       "    <tr>\n",
       "      <th>4</th>\n",
       "      <td>4</td>\n",
       "      <td>on 10/21/15 21:37 PM (PDT)</td>\n",
       "      <td>Sam</td>\n",
       "      <td>2015 Nissan NV Passenger Van 3500 S 3dr Van (5...</td>\n",
       "      <td>Not for a family</td>\n",
       "      <td>I went from a Honda Odyssey to this van since...</td>\n",
       "      <td>3.000</td>\n",
       "    </tr>\n",
       "  </tbody>\n",
       "</table>\n",
       "</div>"
      ],
      "text/plain": [
       "   Unnamed: 0                  Review_Date   Author_Name  \\\n",
       "0           0   on 03/07/13 12:29 PM (PST)  deltasierra    \n",
       "1           1   on 07/06/18 15:50 PM (PDT)     Daniel r    \n",
       "2           2   on 03/26/18 14:30 PM (PDT)    Bobbie D.    \n",
       "3           3   on 05/14/16 09:50 AM (PDT)    Joe Flash    \n",
       "4           4   on 10/21/15 21:37 PM (PDT)          Sam    \n",
       "\n",
       "                                       Vehicle_Title  \\\n",
       "0  2013 Nissan NV Passenger Van 3500 SL 3dr Van (...   \n",
       "1  2015 Nissan NV Passenger Van 3500 SL 3dr Van (...   \n",
       "2  2015 Nissan NV Passenger Van 3500 SL 3dr Van (...   \n",
       "3  2015 Nissan NV Passenger Van 3500 SL 3dr Van (...   \n",
       "4  2015 Nissan NV Passenger Van 3500 S 3dr Van (5...   \n",
       "\n",
       "                   Review_Title  \\\n",
       "0  Outstanding large family van   \n",
       "1                  Back ac suck   \n",
       "2                 we love ours!   \n",
       "3  My 2014 Nissan NVP SL review   \n",
       "4              Not for a family   \n",
       "\n",
       "                                              Review  Rating\\r  \n",
       "0   With the expected arrival of our 6th child, o...     4.125  \n",
       "1   Rear ac blow to slow that my kid do not want ...     3.000  \n",
       "2   This is not a small astro van type.You will n...     5.000  \n",
       "3   I am very satisfied with my  2014 Nissan NV S...     5.000  \n",
       "4   I went from a Honda Odyssey to this van since...     3.000  "
      ]
     },
     "execution_count": 5,
     "metadata": {},
     "output_type": "execute_result"
    }
   ],
   "source": [
    "data.head()"
   ]
  },
  {
   "cell_type": "code",
   "execution_count": 11,
   "metadata": {},
   "outputs": [],
   "source": [
    "data.drop(\"Unnamed: 0\", axis=1, inplace=True)"
   ]
  },
  {
   "cell_type": "code",
   "execution_count": 29,
   "metadata": {},
   "outputs": [],
   "source": [
    "most_reviewed_cars = data[\"Vehicle_Title\"].value_counts()[:50]"
   ]
  },
  {
   "cell_type": "code",
   "execution_count": 47,
   "metadata": {},
   "outputs": [],
   "source": [
    "vehicle_and_rating = data[['Vehicle_Title', 'Rating\\r', 'Review']]"
   ]
  },
  {
   "cell_type": "code",
   "execution_count": 57,
   "metadata": {},
   "outputs": [
    {
     "data": {
      "text/plain": [
       "{'2002 Nissan Sentra SE-R Spec V SE-R Spec V 4dr Sedan (2.5L 4cyl 6M)': 4.285714285714286,\n",
       " '2003 Nissan Sentra SE-R Spec V SE-R Spec V 4dr Sedan (2.5L 4cyl 6M)': 4.430357142857143,\n",
       " '2010 Nissan Maxima Sedan 3.5 SV 4dr Sedan (3.5L 6cyl CVT)': 4.68859649122807,\n",
       " '2007 Nissan Altima Hybrid Sedan 4dr Sedan (2.5L 4cyl gas/electric hybrid CVT)': 4.848214285714286,\n",
       " '2009 Nissan Maxima Sedan 3.5 SV 4dr Sedan (3.5L 6cyl CVT)': 4.4795454545454545,\n",
       " '2004 Nissan Sentra SE-R Spec V SE-R Spec V 4dr Sedan (2.5L 4cyl 6M)': 4.398584905660377,\n",
       " '2002 Nissan Sentra Sedan GXE 4dr Sedan (1.8L 4cyl 5M)': 4.153846153846154,\n",
       " '2002 Nissan Sentra SE-R SE-R 4dr Sedan (2.5L 4cyl 5M)': 4.232843137254902,\n",
       " '2008 Nissan Altima Sedan 2.5 S 4dr Sedan (2.5L 4cyl CVT)': 3.7907608695652173,\n",
       " '2003 Nissan Maxima Sedan SE 4dr Sedan (3.5L 6cyl 6M)': 4.505434782608695,\n",
       " '2010 Nissan Altima Sedan 2.5 S 4dr Sedan (2.5L 4cyl CVT)': 4.058333333333334,\n",
       " '1997 Nissan Altima Sedan GXE 4dr Sedan': 4.394444444444445,\n",
       " '2007 Nissan Altima Sedan 2.5 S 4dr Sedan (2.5L 4cyl CVT)': 4.061111111111111,\n",
       " '2006 Nissan Sentra Sedan 1.8 S 4dr Sedan (1.8L 4cyl 4A)': 3.5994318181818183,\n",
       " '2000 Nissan Sentra Sedan GXE 4dr Sedan': 4.136363636363637,\n",
       " '2008 Nissan Altima Hybrid Sedan 4dr Sedan (2.5L 4cyl gas/electric hybrid CVT)': 4.545454545454546,\n",
       " '2007 Nissan Maxima Sedan 3.5 SE 4dr Sedan (3.5L 6cyl CVT)': 3.948170731707317,\n",
       " '2000 Nissan Altima Sedan GXE 4dr Sedan': 4.390243902439025,\n",
       " '1997 Nissan Maxima Sedan SE 4dr Sedan': 4.60625,\n",
       " '2000 Nissan Maxima Sedan SE 4dr Sedan': 4.352564102564102,\n",
       " '2006 Nissan Maxima Sedan 3.5 SE 4dr Sedan (3.5L 6cyl 5A)': 3.6794871794871793,\n",
       " '1999 Nissan Altima Sedan GXE 4dr Sedan': 4.5673076923076925,\n",
       " '2009 Nissan Altima Sedan 2.5 S 4dr Sedan (2.5L 4cyl CVT)': 3.838815789473684,\n",
       " '2001 Nissan Altima Sedan GXE 4dr Sedan (2.4L 4cyl 5M)': 4.197368421052632,\n",
       " '2008 Nissan Maxima Sedan 3.5 SE 4dr Sedan (3.5L 6cyl CVT)': 4.472972972972973,\n",
       " '2002 Nissan Maxima Sedan SE 4dr Sedan (3.5L 6cyl 6M)': 4.590277777777778,\n",
       " '2009 Nissan Altima Hybrid Sedan 4dr Sedan (2.5L 4cyl gas/electric hybrid CVT)': 4.534722222222222,\n",
       " '1997 Nissan Sentra Sedan GXE 4dr Sedan': 4.128571428571429,\n",
       " '2008 Nissan Versa Hatchback 1.8 SL 4dr Hatchback (1.8L 4cyl CVT)': 4.1,\n",
       " '2008 Nissan Sentra Sedan 2.0 S 4dr Sedan (2.0L 4cyl CVT)': 3.875,\n",
       " '2006 Nissan Altima Sedan 2.5 S 4dr Sedan (2.5L 4cyl 4A)': 4.0321428571428575,\n",
       " '2004 Nissan Quest Minivan 3.5 SE 4dr Minivan (3.5L 6cyl 5A)': 3.8964285714285714,\n",
       " '2008 Nissan Altima Coupe 2.5 S 2dr Coupe (2.5L 4cyl CVT)': 4.375,\n",
       " '2003 Nissan 350Z Coupe Touring 2dr Coupe (3.5L 6cyl 6M)': 4.474264705882353,\n",
       " '2005 Nissan Sentra Sedan 1.8 S 4dr Sedan (1.8L 4cyl 5M)': 3.889705882352941,\n",
       " '2004 Nissan 350Z Convertible Touring 2dr Roadster (3.5L 6cyl 6M)': 4.75,\n",
       " '1998 Nissan Altima Sedan GXE 4dr Sedan': 4.5661764705882355,\n",
       " '2009 Nissan Rogue SUV SL 4dr SUV AWD (2.5L 4cyl CVT)': 3.9595588235294117,\n",
       " '2011 Nissan Maxima Sedan 3.5 SV 4dr Sedan (3.5L 6cyl CVT)': 4.329545454545454,\n",
       " '2012 Nissan Altima Sedan 2.5 S 4dr Sedan (2.5L 4cyl CVT)': 3.837121212121212,\n",
       " '2011 Nissan Rogue SUV SV 4dr SUV AWD (2.5L 4cyl CVT)': 4.0703125,\n",
       " '2012 Nissan Versa Sedan 1.6 SV 4dr Sedan (1.6L 4cyl CVT)': 3.15234375,\n",
       " '2005 Nissan Armada SUV LE 4WD 4dr SUV (5.6L 8cyl 5A)': 4.3203125,\n",
       " '1998 Nissan Pathfinder SUV SE 4dr SUV 4WD': 4.41015625,\n",
       " '2007 Nissan Sentra Sedan 2.0 S 4dr Sedan (2.0L 4cyl CVT)': 3.782258064516129,\n",
       " '2001 Nissan Maxima Sedan SE 4dr Sedan (3.0L 6cyl 5M)': 4.189516129032258,\n",
       " '1998 Nissan Maxima Sedan SE 4dr Sedan': 4.675,\n",
       " '1997 Nissan Pathfinder SUV SE 4dr SUV 4WD': 4.208333333333333,\n",
       " '1999 Nissan Sentra Sedan GXE 4dr Sedan': 4.2375,\n",
       " '2004 Nissan Sentra Sedan 1.8 S 4dr Sedan (1.8L 4cyl 5M)': 3.629166666666667}"
      ]
     },
     "execution_count": 57,
     "metadata": {},
     "output_type": "execute_result"
    }
   ],
   "source": [
    "car_and_rating = {}\n",
    "\n",
    "for car in most_reviewed_cars.index:\n",
    "    selected_rows = data[data['Vehicle_Title'] == car]\n",
    "    average_rating = selected_rows['Rating\\r'].mean()\n",
    "    car_and_rating[car] = average_rating\n",
    "    \n",
    "car_and_rating"
   ]
  },
  {
   "cell_type": "code",
   "execution_count": 120,
   "metadata": {},
   "outputs": [],
   "source": [
    "descending_rating = {k: v for k, v in sorted(car_and_rating.items(), key=lambda item: item[1], reverse=True)}\n"
   ]
  },
  {
   "cell_type": "code",
   "execution_count": 105,
   "metadata": {},
   "outputs": [],
   "source": [
    "shortcut = []\n",
    "\n",
    "for long_word in descending_rating.keys():\n",
    "    word = long_word.split()\n",
    "    word = word[0] + ' ' + word[1] + ' ' + word[2]\n",
    "    shortcut.append(word)"
   ]
  },
  {
   "cell_type": "code",
   "execution_count": 119,
   "metadata": {},
   "outputs": [
    {
     "data": {
      "image/png": "[encoded data removed]",
      "text/plain": [
       "<Figure size 1080x576 with 1 Axes>"
      ]
     },
     "metadata": {
      "needs_background": "light"
     },
     "output_type": "display_data"
    }
   ],
   "source": [
    "%matplotlib inline\n",
    "plt.figure(figsize=(15,8))\n",
    "plt.xticks(rotation=90)\n",
    "plt.bar(shortcut, descending_rating.values());"
   ]
  },
  {
   "cell_type": "code",
   "execution_count": null,
   "metadata": {},
   "outputs": [],
   "source": []
  },
  {
   "cell_type": "code",
   "execution_count": 133,
   "metadata": {},
   "outputs": [
    {
     "name": "stderr",
     "output_type": "stream",
     "text": [
      "[nltk_data] Downloading package stopwords to\n",
      "[nltk_data]     C:\\Users\\woute\\AppData\\Roaming\\nltk_data...\n",
      "[nltk_data]   Package stopwords is already up-to-date!\n"
     ]
    }
   ],
   "source": [
    "from nltk.corpus import stopwords\n",
    "import nltk\n",
    "nltk.download('stopwords')\n",
    "cachedStopWords = stopwords.words(\"english\")\n",
    "\n",
    "words_dict = {}\n",
    "\n",
    "for review in data['Review']:\n",
    "    words = review.split()\n",
    "    for word in words:\n",
    "        if word.lower() in cachedStopWords:\n",
    "            pass\n",
    "        else:\n",
    "            if word in words_dict:\n",
    "                words_dict[word] += 1\n",
    "            else:\n",
    "                words_dict[word] = 1\n",
    "                \n",
    "descending_words = {k: v for k, v in sorted(words_dict.items(), key=lambda item: item[1], reverse=True)}"
   ]
  },
  {
   "cell_type": "code",
   "execution_count": 151,
   "metadata": {},
   "outputs": [
    {
     "data": {
      "text/plain": [
       "{'car': 10632,\n",
       " 'Nissan': 4775,\n",
       " 'miles': 3858,\n",
       " 'like': 3705,\n",
       " 'get': 3441,\n",
       " 'great': 3280,\n",
       " 'it.': 2786,\n",
       " 'truck': 2782,\n",
       " 'new': 2711,\n",
       " 'would': 2600,\n",
       " 'bought': 2565,\n",
       " 'good': 2538,\n",
       " 'one': 2478,\n",
       " 'drive': 2394,\n",
       " 'love': 2328,\n",
       " 'gas': 2233,\n",
       " 'car.': 2220,\n",
       " 'vehicle': 2109,\n",
       " 'back': 2015,\n",
       " 'still': 2015}"
      ]
     },
     "execution_count": 151,
     "metadata": {},
     "output_type": "execute_result"
    }
   ],
   "source": [
    "first10pairs = {k: descending_words[k] for k in list(descending_words)[:20]}\n",
    "first10pairs"
   ]
  },
  {
   "cell_type": "code",
   "execution_count": 152,
   "metadata": {},
   "outputs": [
    {
     "data": {
      "image/png": "[encoded data removed]",
      "text/plain": [
       "<Figure size 1080x576 with 1 Axes>"
      ]
     },
     "metadata": {
      "needs_background": "light"
     },
     "output_type": "display_data"
    }
   ],
   "source": [
    "%matplotlib inline\n",
    "plt.figure(figsize=(15,8))\n",
    "plt.xticks(rotation=90)\n",
    "plt.bar(first10pairs.keys(), first10pairs.values());"
   ]
  },
  {
   "cell_type": "code",
   "execution_count": null,
   "metadata": {},
   "outputs": [],
   "source": []
  }
 ],
 "metadata": {
  "kernelspec": {
   "display_name": "Python 3",
   "language": "python",
   "name": "python3"
  },
  "language_info": {
   "codemirror_mode": {
    "name": "ipython",
    "version": 3
   },
   "file_extension": ".py",
   "mimetype": "text/x-python",
   "name": "python",
   "nbconvert_exporter": "python",
   "pygments_lexer": "ipython3",
   "version": "3.7.3"
  }
 },
 "nbformat": 4,
 "nbformat_minor": 2
}
